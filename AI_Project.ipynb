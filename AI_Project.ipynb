{
 "cells": [
  {
   "cell_type": "code",
   "execution_count": 1,
   "id": "3b5a0e9c",
   "metadata": {},
   "outputs": [],
   "source": [
    "import pandas as pd"
   ]
  },
  {
   "cell_type": "code",
   "execution_count": 2,
   "id": "abfef13a",
   "metadata": {},
   "outputs": [],
   "source": [
    "from sklearn.feature_extraction.text import TfidfVectorizer"
   ]
  },
  {
   "cell_type": "code",
   "execution_count": 3,
   "id": "82f9cfc2",
   "metadata": {},
   "outputs": [],
   "source": [
    "training_data = pd.read_csv(\"D:\\\\HW_3 AI\\\\Topic_3_Data\\\\Topic1-youtube_spam_train.csv\")\n",
    "x_train = training_data.iloc[:,3]\n",
    "y_train = training_data.iloc[:,4]"
   ]
  },
  {
   "cell_type": "code",
   "execution_count": 4,
   "id": "d24a8121",
   "metadata": {},
   "outputs": [],
   "source": [
    "test_data = pd.read_csv(\"D:\\\\HW_3 AI\\\\Topic_3_Data\\\\Topic1-youtube_spam_test.csv\")\n",
    "x_test = test_data.iloc[:,3]\n",
    "y_test = test_data.iloc[:,4]"
   ]
  },
  {
   "cell_type": "code",
   "execution_count": 5,
   "id": "07fe4e95",
   "metadata": {},
   "outputs": [
    {
     "name": "stdout",
     "output_type": "stream",
     "text": [
      "(798, 3202)\n",
      "(202, 3202)\n"
     ]
    }
   ],
   "source": [
    "merged_data = pd.read_csv(\"D:\\\\HW_3 AI\\\\Topic_3_Data\\\\Topic1-youtube_spam_merged.csv\")\n",
    "\n",
    "corpus = merged_data.iloc[:,3]\n",
    "vctrizer = TfidfVectorizer(stop_words = None).fit(corpus)\n",
    "\n",
    "v_train = vctrizer.transform(x_train)\n",
    "print(v_train.shape)\n",
    "\n",
    "v_test = vctrizer.transform(x_test)\n",
    "print(v_test.shape)"
   ]
  },
  {
   "cell_type": "code",
   "execution_count": 7,
   "id": "f2c6bab1",
   "metadata": {},
   "outputs": [
    {
     "name": "stdout",
     "output_type": "stream",
     "text": [
      "Best n_estimators: 175\n",
      "Best max_depth: 30\n"
     ]
    }
   ],
   "source": [
    "from sklearn.ensemble import RandomForestClassifier\n",
    "from sklearn.model_selection import GridSearchCV\n",
    "from sklearn.metrics import accuracy_score, precision_score, confusion_matrix, roc_auc_score, roc_curve, f1_score, recall_score\n",
    "\n",
    "# Parameter tuning\n",
    "param_grid = {'n_estimators': [20, 50, 75, 100, 150, 175, 180, 190, 200, 300], 'max_depth': [None, 10, 20, 30, 40, 50, 60]}\n",
    "\n",
    "random_forest = RandomForestClassifier()\n",
    "\n",
    "grid_search = GridSearchCV(random_forest, param_grid, cv=5)\n",
    "grid_search.fit(v_train, y_train)\n",
    "\n",
    "best_n_estimators = grid_search.best_params_['n_estimators']\n",
    "best_max_depth = grid_search.best_params_['max_depth']\n",
    "\n",
    "print(\"Best n_estimators:\", best_n_estimators)\n",
    "print(\"Best max_depth:\", best_max_depth)\n",
    "\n",
    "best_rfc = RandomForestClassifier(n_estimators = best_n_estimators, max_depth = best_max_depth)\n",
    "best_rfc = best_rfc.fit(v_train, y_train)"
   ]
  },
  {
   "cell_type": "code",
   "execution_count": 8,
   "id": "006f7925",
   "metadata": {},
   "outputs": [
    {
     "name": "stdout",
     "output_type": "stream",
     "text": [
      "Training Accuracy: 0.9887218045112782\n",
      "Training Precision: 1.0\n",
      "Training AUC-ROC: 0.990301724137931\n"
     ]
    }
   ],
   "source": [
    "y_train_pred = best_rfc.predict(v_train)\n",
    "\n",
    "accuracy_train = accuracy_score(y_train, y_train_pred)\n",
    "precision_train = precision_score(y_train, y_train_pred)\n",
    "auc_roc_train = roc_auc_score(y_train, y_train_pred)\n",
    "\n",
    "print(\"Training Accuracy:\", accuracy_train)\n",
    "print(\"Training Precision:\", precision_train)\n",
    "print(\"Training AUC-ROC:\", auc_roc_train)"
   ]
  },
  {
   "cell_type": "code",
   "execution_count": 9,
   "id": "a7c74c20",
   "metadata": {},
   "outputs": [
    {
     "name": "stdout",
     "output_type": "stream",
     "text": [
      "Test Accuracy: 0.9504950495049505\n",
      "Test Precision: 0.9545454545454546\n",
      "Test AUC-ROC: 0.950098814229249\n"
     ]
    }
   ],
   "source": [
    "y_test_pred = best_rfc.predict(v_test)\n",
    "\n",
    "accuracy_test = accuracy_score(y_test, y_test_pred)\n",
    "precision_test = precision_score(y_test, y_test_pred)\n",
    "auc_roc_test = roc_auc_score(y_test, y_test_pred)\n",
    "\n",
    "print(\"Test Accuracy:\", accuracy_test)\n",
    "print(\"Test Precision:\", precision_test)\n",
    "print(\"Test AUC-ROC:\", auc_roc_test)"
   ]
  },
  {
   "cell_type": "code",
   "execution_count": null,
   "id": "bd5e1d0b",
   "metadata": {},
   "outputs": [],
   "source": []
  }
 ],
 "metadata": {
  "kernelspec": {
   "display_name": "Python 3 (ipykernel)",
   "language": "python",
   "name": "python3"
  },
  "language_info": {
   "codemirror_mode": {
    "name": "ipython",
    "version": 3
   },
   "file_extension": ".py",
   "mimetype": "text/x-python",
   "name": "python",
   "nbconvert_exporter": "python",
   "pygments_lexer": "ipython3",
   "version": "3.11.8"
  }
 },
 "nbformat": 4,
 "nbformat_minor": 5
}
